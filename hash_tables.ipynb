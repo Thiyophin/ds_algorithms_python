{
 "cells": [
  {
   "cell_type": "markdown",
   "id": "bd573877",
   "metadata": {},
   "source": [
    "# Hash tables are also called dictionaries"
   ]
  },
  {
   "cell_type": "markdown",
   "id": "0bf295e9",
   "metadata": {},
   "source": [
    "#### used for faster lookups\n",
    "## Applications of hash tables\n",
    "- Spell checkers\n",
    "- Dictionaries\n",
    "- Compilers\n",
    "- Code editors\n",
    "\n",
    "### Implementation in different programming languages\n",
    "- HashMap in Java\n",
    "- Object in Js\n",
    "- Dictionary - Python\n",
    "- Dictionary - C#\n",
    "\n",
    "### Time complexity for different operations using dictionaries\n",
    "\n",
    "- insert - O(1)\n",
    "- lookup - O(1)\n",
    "- delete - O(1)\n",
    "- rarely these operations run in O(n) "
   ]
  },
  {
   "cell_type": "markdown",
   "id": "88dd5de2",
   "metadata": {},
   "source": [
    "#### FInd the First Non-repeated character"
   ]
  },
  {
   "cell_type": "code",
   "execution_count": 22,
   "id": "b81de0ad",
   "metadata": {},
   "outputs": [
    {
     "name": "stdout",
     "output_type": "stream",
     "text": [
      "Enter the sentence : A Green Apple\n",
      "G is the first non-repeating character\n"
     ]
    }
   ],
   "source": [
    "# solution using sets\n",
    "sentence = input(\"Enter the sentence : \")\n",
    "set_char = set()\n",
    "for x in range(len(sentence)):\n",
    "    char1 = sentence[x]\n",
    "    for y in range(x+1, len(sentence)):\n",
    "        if char1 == sentence[y]:\n",
    "            set_char.add(char1)\n",
    "    if char1 not in set_char:\n",
    "        print(f\"{char1} is the first non-repeating character\")\n",
    "        break\n",
    "else:\n",
    "    print(\"Ther is no unique character\")"
   ]
  },
  {
   "cell_type": "code",
   "execution_count": 25,
   "id": "6dea988c",
   "metadata": {},
   "outputs": [
    {
     "name": "stdout",
     "output_type": "stream",
     "text": [
      "Enter the sentence : A Green Apple\n",
      "G is the first non-repeating character\n"
     ]
    }
   ],
   "source": [
    "# solution using hashtable\n",
    "dict_char = {}\n",
    "sentence = input(\"Enter the sentence : \")\n",
    "for x in sentence:\n",
    "    if x in dict_char:\n",
    "        dict_char[x] += 1\n",
    "    else:\n",
    "        dict_char[x] = 1\n",
    "for key, value in dict_char.items():\n",
    "    if value == 1 and key != \" \":\n",
    "        print(f\"{key} is the first non-repeating character\")\n",
    "        break\n",
    "else:\n",
    "    print(\"Ther is no unique character\")        "
   ]
  },
  {
   "cell_type": "code",
   "execution_count": 29,
   "id": "dc8b797d",
   "metadata": {},
   "outputs": [],
   "source": [
    "# The hash() method returns the hash value of an object if it has one. Hash values are just integers that are used to compare dictionary keys during a dictionary look quickly."
   ]
  },
  {
   "cell_type": "code",
   "execution_count": 32,
   "id": "de9fc4e1",
   "metadata": {},
   "outputs": [
    {
     "name": "stdout",
     "output_type": "stream",
     "text": [
      "-1744715306463785936\n",
      "Hash for 181 is: 181\n",
      "Hash for 181.23 is: 530343892119126197\n",
      "Hash for Python is: -6381985880434448373\n"
     ]
    }
   ],
   "source": [
    "text = 'Python Programming'\n",
    "\n",
    "# compute the hash value of text\n",
    "hash_value = hash(text)\n",
    "print(hash_value)\n",
    "# hash for integer unchanged\n",
    "print('Hash for 181 is:', hash(181))\n",
    "\n",
    "# hash for decimal\n",
    "print('Hash for 181.23 is:',hash(181.23))\n",
    "\n",
    "# hash for string\n",
    "print('Hash for Python is:', hash('Python'))"
   ]
  },
  {
   "cell_type": "code",
   "execution_count": 33,
   "id": "6f7410b5",
   "metadata": {},
   "outputs": [
    {
     "name": "stdout",
     "output_type": "stream",
     "text": [
      "'Pete' is in the Hash Set at : 8\n"
     ]
    }
   ],
   "source": [
    "my_hash_set = [None,'Jones',None,'Lisa',None,'Bob',None,'Siri','Pete',None]\n",
    "\n",
    "def hash_function(value):\n",
    "    sum_of_chars = 0\n",
    "    for char in value:\n",
    "        sum_of_chars += ord(char)\n",
    "\n",
    "    return sum_of_chars % 10\n",
    "    \n",
    "def index_finder(name):\n",
    "    index = hash_function(name)\n",
    "    return index\n",
    "\n",
    "print(\"'Pete' is in the Hash Set at :\",index_finder('Pete'))"
   ]
  },
  {
   "cell_type": "markdown",
   "id": "fe27ed03",
   "metadata": {},
   "source": [
    "Hash Table elements are stored in storage containers called buckets.\n",
    "\n",
    "Every Hash Table element has a part that is unique that is called the key.\n",
    "\n",
    "A hash function takes the key of an element to generate a hash code.\n",
    "\n",
    "The hash code says what bucket the element belongs to, so now we can go directly to that Hash Table element: to modify it, or to delete it, or just to check if it exists. Specific hash functions are explained in detail on the next two pages.\n",
    "\n",
    "A collision happens when two Hash Table elements have the same hash code, because that means they belong to the same bucket. A collision can be solved in two ways.\n",
    "\n",
    "Chaining is the way collisions are solved in this tutorial, by using arrays or linked lists to allow more than one element in the same bucket.\n",
    "\n",
    "Open Addressing is another way to solve collisions. With open addressing, if we want to store an element but there is already an element in that bucket, the element is stored in the next available bucket. This can be done in many different ways"
   ]
  },
  {
   "cell_type": "code",
   "execution_count": null,
   "id": "4e6925e7",
   "metadata": {},
   "outputs": [],
   "source": []
  }
 ],
 "metadata": {
  "kernelspec": {
   "display_name": "env",
   "language": "python",
   "name": "env"
  },
  "language_info": {
   "codemirror_mode": {
    "name": "ipython",
    "version": 3
   },
   "file_extension": ".py",
   "mimetype": "text/x-python",
   "name": "python",
   "nbconvert_exporter": "python",
   "pygments_lexer": "ipython3",
   "version": "3.8.20"
  }
 },
 "nbformat": 4,
 "nbformat_minor": 5
}
