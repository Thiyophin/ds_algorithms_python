{
 "cells": [
  {
   "cell_type": "markdown",
   "id": "bd573877",
   "metadata": {},
   "source": [
    "# Hash tables are also called dictionaries"
   ]
  },
  {
   "cell_type": "markdown",
   "id": "0bf295e9",
   "metadata": {},
   "source": [
    "#### used for faster lookups\n",
    "## Applications of hash tables\n",
    "- Spell checkers\n",
    "- Dictionaries\n",
    "- Compilers\n",
    "- Code editors\n",
    "\n",
    "### Implementation in different programming languages\n",
    "- HashMap in Java\n",
    "- Object in Js\n",
    "- Dictionary - Python\n",
    "- Dictionary - C#\n",
    "\n",
    "### Time complexity for different operations using dictionaries\n",
    "\n",
    "- insert - O(1)\n",
    "- lookup - O(1)\n",
    "- delete - O(1)\n",
    "- rarely these operations run in O(n) "
   ]
  },
  {
   "cell_type": "markdown",
   "id": "6e127451",
   "metadata": {},
   "source": [
    "#### FInd the First Non-repeated character"
   ]
  },
  {
   "cell_type": "code",
   "execution_count": 22,
   "id": "0693cefa",
   "metadata": {},
   "outputs": [
    {
     "name": "stdout",
     "output_type": "stream",
     "text": [
      "Enter the sentence : A Green Apple\n",
      "G is the first non-repeating character\n"
     ]
    }
   ],
   "source": [
    "# solution using sets\n",
    "sentence = input(\"Enter the sentence : \")\n",
    "set_char = set()\n",
    "for x in range(len(sentence)):\n",
    "    char1 = sentence[x]\n",
    "    for y in range(x+1, len(sentence)):\n",
    "        if char1 == sentence[y]:\n",
    "            set_char.add(char1)\n",
    "    if char1 not in set_char:\n",
    "        print(f\"{char1} is the first non-repeating character\")\n",
    "        break\n",
    "else:\n",
    "    print(\"Ther is no unique character\")"
   ]
  },
  {
   "cell_type": "code",
   "execution_count": 25,
   "id": "f3e4fd81",
   "metadata": {},
   "outputs": [
    {
     "name": "stdout",
     "output_type": "stream",
     "text": [
      "Enter the sentence : A Green Apple\n",
      "G is the first non-repeating character\n"
     ]
    }
   ],
   "source": [
    "# solution using hashtable\n",
    "dict_char = {}\n",
    "sentence = input(\"Enter the sentence : \")\n",
    "for x in sentence:\n",
    "    if x in dict_char:\n",
    "        dict_char[x] += 1\n",
    "    else:\n",
    "        dict_char[x] = 1\n",
    "for key, value in dict_char.items():\n",
    "    if value == 1 and key != \" \":\n",
    "        print(f\"{key} is the first non-repeating character\")\n",
    "        break\n",
    "else:\n",
    "    print(\"Ther is no unique character\")        "
   ]
  },
  {
   "cell_type": "code",
   "execution_count": 29,
   "id": "70391325",
   "metadata": {},
   "outputs": [],
   "source": [
    "# The hash() method returns the hash value of an object if it has one. Hash values are just integers that are used to compare dictionary keys during a dictionary look quickly."
   ]
  },
  {
   "cell_type": "code",
   "execution_count": 32,
   "id": "8b919806",
   "metadata": {},
   "outputs": [
    {
     "name": "stdout",
     "output_type": "stream",
     "text": [
      "-1744715306463785936\n",
      "Hash for 181 is: 181\n",
      "Hash for 181.23 is: 530343892119126197\n",
      "Hash for Python is: -6381985880434448373\n"
     ]
    }
   ],
   "source": [
    "text = 'Python Programming'\n",
    "\n",
    "# compute the hash value of text\n",
    "hash_value = hash(text)\n",
    "print(hash_value)\n",
    "# hash for integer unchanged\n",
    "print('Hash for 181 is:', hash(181))\n",
    "\n",
    "# hash for decimal\n",
    "print('Hash for 181.23 is:',hash(181.23))\n",
    "\n",
    "# hash for string\n",
    "print('Hash for Python is:', hash('Python'))"
   ]
  },
  {
   "cell_type": "code",
   "execution_count": 33,
   "id": "644a75df",
   "metadata": {},
   "outputs": [
    {
     "name": "stdout",
     "output_type": "stream",
     "text": [
      "'Pete' is in the Hash Set at : 8\n"
     ]
    }
   ],
   "source": [
    "my_hash_set = [None,'Jones',None,'Lisa',None,'Bob',None,'Siri','Pete',None]\n",
    "\n",
    "def hash_function(value):\n",
    "    sum_of_chars = 0\n",
    "    for char in value:\n",
    "        sum_of_chars += ord(char)\n",
    "\n",
    "    return sum_of_chars % 10\n",
    "    \n",
    "def index_finder(name):\n",
    "    index = hash_function(name)\n",
    "    return index\n",
    "\n",
    "print(\"'Pete' is in the Hash Set at :\",index_finder('Pete'))"
   ]
  },
  {
   "cell_type": "markdown",
   "id": "8d1a7474",
   "metadata": {},
   "source": [
    "Hash Table elements are stored in storage containers called buckets.\n",
    "\n",
    "Every Hash Table element has a part that is unique that is called the key.\n",
    "\n",
    "A hash function takes the key of an element to generate a hash code.\n",
    "\n",
    "The hash code says what bucket the element belongs to, so now we can go directly to that Hash Table element: to modify it, or to delete it, or just to check if it exists. Specific hash functions are explained in detail on the next two pages.\n",
    "\n",
    "A collision happens when two Hash Table elements have the same hash code, because that means they belong to the same bucket. A collision can be solved in two ways.\n",
    "\n",
    "Chaining is the way collisions are solved in this tutorial, by using arrays or linked lists to allow more than one element in the same bucket.\n",
    "\n",
    "Open Addressing is another way to solve collisions. With open addressing, if we want to store an element but there is already an element in that bucket, the element is stored in the next available bucket. This can be done in many different ways"
   ]
  },
  {
   "cell_type": "markdown",
   "id": "a52a1b0a",
   "metadata": {},
   "source": [
    "#### Simple hashtable from scratch"
   ]
  },
  {
   "cell_type": "code",
   "execution_count": 32,
   "id": "dd5f9f4e",
   "metadata": {},
   "outputs": [
    {
     "name": "stdout",
     "output_type": "stream",
     "text": [
      "2\n",
      "The items in 0 : []\n",
      "The items in 1 : ['hello1']\n",
      "The items in 2 : ['hello', 'hello2']\n",
      "The items in 3 : ['hello3']\n",
      "The items in 4 : ['hello4']\n",
      "The items in 5 : []\n",
      "The items in 6 : ['hai']\n",
      "The items in 7 : []\n",
      "The items in 8 : []\n",
      "The items in 9 : []\n",
      "True\n",
      "False\n",
      "True\n",
      "False\n"
     ]
    }
   ],
   "source": [
    "class simpleHashTable:\n",
    "    def __init__(self, size=100):\n",
    "        self.size = size\n",
    "        self.bucket = [[] for x in range(size)]\n",
    "        \n",
    "    def hash_code_gen(self, val):\n",
    "        hash_code = sum([ord(x) for x in val]) % self.size\n",
    "        return hash_code\n",
    "    \n",
    "    def insert_value(self, val):\n",
    "        hash_index = self.hash_code_gen(val)\n",
    "        bucket = self.bucket[hash_index]\n",
    "        if val not in bucket:\n",
    "            bucket.append(val)\n",
    "    \n",
    "    def contains(self, val):\n",
    "        hash_index = self.hash_code_gen(val)\n",
    "        bucket = self.bucket[hash_index]\n",
    "        return val in bucket\n",
    "    \n",
    "    def remove(self, val):\n",
    "        hash_index = self.hash_code_gen(val)\n",
    "        bucket = self.bucket[hash_index]\n",
    "        if val in bucket:\n",
    "            bucket.remove(val)\n",
    "        \n",
    "    def print_hashtable(self):\n",
    "        for idx, bucket in enumerate(self.bucket):\n",
    "            print(f\"The items in {idx} : {bucket}\")\n",
    "            \n",
    "\n",
    "hashtable = simpleHashTable(size=10)\n",
    "print(hashtable.hash_code_gen(\"hello\"))\n",
    "hashtable.insert_value(\"hello\")\n",
    "hashtable.insert_value(\"hai\")\n",
    "hashtable.insert_value(\"hello\")\n",
    "hashtable.insert_value(\"hello1\")\n",
    "hashtable.insert_value(\"hello2\")\n",
    "hashtable.insert_value(\"hello3\")\n",
    "hashtable.insert_value(\"hello4\")\n",
    "hashtable.print_hashtable()\n",
    "print(hashtable.contains(\"hello\"))\n",
    "print(hashtable.contains(\"hey\"))\n",
    "print(hashtable.contains(\"hello3\"))\n",
    "hashtable.remove(\"hello3\")\n",
    "print(hashtable.contains(\"hello3\"))"
   ]
  },
  {
   "cell_type": "code",
   "execution_count": null,
   "id": "43d4277b",
   "metadata": {},
   "outputs": [],
   "source": []
  }
 ],
 "metadata": {
  "kernelspec": {
   "display_name": "env",
   "language": "python",
   "name": "env"
  },
  "language_info": {
   "codemirror_mode": {
    "name": "ipython",
    "version": 3
   },
   "file_extension": ".py",
   "mimetype": "text/x-python",
   "name": "python",
   "nbconvert_exporter": "python",
   "pygments_lexer": "ipython3",
   "version": "3.8.20"
  }
 },
 "nbformat": 4,
 "nbformat_minor": 5
}
