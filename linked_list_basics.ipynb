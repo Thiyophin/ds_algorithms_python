{
 "cells": [
  {
   "cell_type": "raw",
   "id": "3719256d-34a8-40a2-86fa-f87bf173fffd",
   "metadata": {},
   "source": [
    "linkedlist holds value and address to next node. first node is head and last node is called tail"
   ]
  },
  {
   "cell_type": "markdown",
   "id": "d34b708e-6451-4b16-a0df-889c0ab30e76",
   "metadata": {},
   "source": [
    "# Time complexities"
   ]
  },
  {
   "cell_type": "raw",
   "id": "a4258bc0-0362-452c-9d23-0beaad536837",
   "metadata": {},
   "source": [
    "Lookup - O(n)\n",
    "Insert end - O(1)\n",
    "Insert first - O(1)\n",
    "Insert middle - O(n) # finding the value takes O(n)\n",
    "Delete end - O(n) # we don't know the last node's previous node so we need to taverse from head to second last node\n",
    "Delete first - O(1)\n",
    "Delete middle - O(n) # finding the value takes O(n)"
   ]
  },
  {
   "cell_type": "markdown",
   "id": "bae56983-a86e-485c-b35c-f511842908d1",
   "metadata": {},
   "source": [
    "## Creating a linked list in python"
   ]
  },
  {
   "cell_type": "code",
   "execution_count": null,
   "id": "ade11130-0ef5-46c6-bb33-10859cce1ca6",
   "metadata": {},
   "outputs": [],
   "source": [
    "# creating a node class\n",
    "class Node:\n",
    "    def __init__(self, data):\n",
    "        self.data = data\n",
    "        self.next = None\n",
    "\n",
    "    # check if head is empty, then insert data and reference head to that node\n",
    "    # else reference head node to new node's address and points head to new_node\n",
    "    def insert_at_beginning(self, data):\n",
    "        newNode = Node(data)\n",
    "        if self.head is None:\n",
    "            self.head = new_node\n",
    "            return\n",
    "        else:\n",
    "            new_node.next = self.head\n",
    "            self.head = new_node\n",
    "\n",
    "    def inset_at_specific_position(self, data, index):\n",
    "        if index == 0:\n",
    "            self.insert_at_beginning(data)\n",
    "        new_node = Node(data)\n",
    "        position = 0\n",
    "        current_node = self.head\n",
    "        while current_node != None and position + 1 != index:\n",
    "            position += 1\n",
    "            current_node = current_node.next\n",
    "            \n",
    "        if current_node != None:\n",
    "            new_node.next = current_node.next\n",
    "            current_node.next = new_node\n",
    "        else:\n",
    "            print(\"Index is not present\")\n",
    "\n",
    "    def insert_at_end(self, data):\n",
    "        new_node = Node(data)\n",
    "        if self.head == None:\n",
    "            self.head = new_node\n",
    "            return\n",
    "        current_node = self.head\n",
    "        while current_node != None:\n",
    "            current_node = current_node.next\n",
    "        current_node.next = new_node\n",
    "\n",
    "    def update_node(self, data, index):\n",
    "        current_node = self.head\n",
    "        if index == 0 and self.head != None:    \n",
    "            current_node.data = data\n",
    "            return\n",
    "        position = 0\n",
    "        while current_node != None and position != index:\n",
    "            postion += 1\n",
    "            current_node = current_node.next\n",
    "        if current_node != None:\n",
    "            current_node.data = data\n",
    "        else:\n",
    "            print(\"Index is not present\")\n",
    "\n",
    "    def delete_first_node(self):\n",
    "        if self.head == None:\n",
    "            return\n",
    "        self.head = self.head.next\n",
    "\n",
    "    def delete_last_node(self):\n",
    "        if self.head == None:\n",
    "            return\n",
    "        current_node = self.head\n",
    "        while current_node.next != None and current_node.next.next != None:\n",
    "            current_node = current_node.next\n",
    "        current_node.next = None\n",
    "\n",
    "    "
   ]
  }
 ],
 "metadata": {
  "kernelspec": {
   "display_name": "Python 3 (ipykernel)",
   "language": "python",
   "name": "python3"
  },
  "language_info": {
   "codemirror_mode": {
    "name": "ipython",
    "version": 3
   },
   "file_extension": ".py",
   "mimetype": "text/x-python",
   "name": "python",
   "nbconvert_exporter": "python",
   "pygments_lexer": "ipython3",
   "version": "3.10.12"
  }
 },
 "nbformat": 4,
 "nbformat_minor": 5
}
