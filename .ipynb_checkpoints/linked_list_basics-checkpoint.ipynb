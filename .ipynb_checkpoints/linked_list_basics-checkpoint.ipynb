{
 "cells": [
  {
   "cell_type": "raw",
   "id": "3719256d-34a8-40a2-86fa-f87bf173fffd",
   "metadata": {},
   "source": [
    "linkedlist holds value and address to next node. first node is head and last node is called tail"
   ]
  },
  {
   "cell_type": "markdown",
   "id": "d34b708e-6451-4b16-a0df-889c0ab30e76",
   "metadata": {},
   "source": [
    "# Time complexities"
   ]
  },
  {
   "cell_type": "raw",
   "id": "a4258bc0-0362-452c-9d23-0beaad536837",
   "metadata": {},
   "source": [
    "Lookup - O(n)\n",
    "Insert end - O(1)\n",
    "Insert first - O(1)\n",
    "Insert middle - O(n) # finding the value takes O(n)\n",
    "Delete end - O(n) # we don't know the last node's previous node so we need to taverse from head to second last node\n",
    "Delete first - O(1)\n",
    "Delete middle - O(n) # finding the value takes O(n)"
   ]
  },
  {
   "cell_type": "markdown",
   "id": "bae56983-a86e-485c-b35c-f511842908d1",
   "metadata": {},
   "source": [
    "## Creating a linked list in python"
   ]
  },
  {
   "cell_type": "code",
   "execution_count": 47,
   "id": "ade11130-0ef5-46c6-bb33-10859cce1ca6",
   "metadata": {},
   "outputs": [],
   "source": [
    "# creating a node class\n",
    "class Node:\n",
    "    def __init__(self, data):\n",
    "        self.data = data\n",
    "        self.next = None\n",
    "\n",
    "class LinkedList:\n",
    "    def __init__(self):\n",
    "        self.head = None\n",
    "    # check if head is empty, then insert data and reference head to that node\n",
    "    # else reference head node to new node's address and points head to new_node\n",
    "    def insert_at_beginning(self, data):\n",
    "        new_node = Node(data)\n",
    "        if self.head is None:\n",
    "            self.head = new_node\n",
    "            return\n",
    "        else:\n",
    "            new_node.next = self.head\n",
    "            self.head = new_node\n",
    "\n",
    "    def insert_at_specific_position(self, data, index):\n",
    "        if index == 0:\n",
    "            self.insert_at_beginning(data)\n",
    "        new_node = Node(data)\n",
    "        position = 0\n",
    "        current_node = self.head\n",
    "        while current_node != None and position + 1 != index:\n",
    "            position += 1\n",
    "            current_node = current_node.next\n",
    "            \n",
    "        if current_node != None:\n",
    "            new_node.next = current_node.next\n",
    "            current_node.next = new_node\n",
    "        else:\n",
    "            print(\"Index is not present\")\n",
    "\n",
    "    def insert_at_end(self, data):\n",
    "        new_node = Node(data)\n",
    "        if self.head == None:\n",
    "            self.head = new_node\n",
    "            return\n",
    "        current_node = self.head\n",
    "        while current_node.next != None:\n",
    "            current_node = current_node.next\n",
    "        current_node.next = new_node\n",
    "\n",
    "    def update_node(self, data, index):\n",
    "        current_node = self.head\n",
    "        if index == 0 and self.head != None:    \n",
    "            current_node.data = data\n",
    "            return\n",
    "        position = 0\n",
    "        while current_node != None and position != index:\n",
    "            position += 1\n",
    "            current_node = current_node.next\n",
    "        if current_node != None:\n",
    "            current_node.data = data\n",
    "        else:\n",
    "            print(\"Index is not present\")\n",
    "\n",
    "    def delete_first_node(self):\n",
    "        if self.head == None:\n",
    "            return\n",
    "        self.head = self.head.next\n",
    "\n",
    "    def delete_last_node(self):\n",
    "        if self.head == None:\n",
    "            return\n",
    "        current_node = self.head\n",
    "        while current_node.next != None and current_node.next.next != None:\n",
    "            current_node = current_node.next\n",
    "        current_node.next = None\n",
    "\n",
    "    def delete_node_at_given_index(self, index):\n",
    "        if self.head == None:\n",
    "            return\n",
    "        position = 0\n",
    "        if index == position:\n",
    "            self.delete_first_node()\n",
    "            return\n",
    "        current_node = self.head\n",
    "        while current_node != None and position != index-1:\n",
    "            position += 1\n",
    "            current_node = current_node.next\n",
    "        if current_node != None and current_node.next != None:\n",
    "            current_node.next = current_node.next.next\n",
    "        else:\n",
    "            print(\"Index is not present\")\n",
    "\n",
    "    def delete_node_with_a_given_data(self, target):\n",
    "        current_node = self.head\n",
    "        if current_node != None and current_node.data == target:\n",
    "            self.delete_first_node()\n",
    "        while current_node != None and current_node.next != None and current_node.next.data != target:\n",
    "                current_node = current_node.next\n",
    "        if current_node == None:\n",
    "            return\n",
    "        else:\n",
    "            current_node.next = current_node.next.next\n",
    "\n",
    "    def traverse_linked_list(self):\n",
    "        current_node = self.head\n",
    "        while current_node != None:\n",
    "            print(current_node.data)\n",
    "            current_node = current_node.next\n",
    "            \n",
    "    def find_index(self,data):\n",
    "        current_node = self.head\n",
    "        index = 0\n",
    "        while current_node != None:\n",
    "            if current_node.data == data:\n",
    "                print(index)\n",
    "                return\n",
    "            current_node = current_node.next\n",
    "            index += 1\n",
    "        print(\"The value is not present in the linked list\")\n",
    "\n",
    "    def get_length_of_linked_list(self):\n",
    "        length = 0\n",
    "        if self.head == None:\n",
    "            return length\n",
    "        current_node = self.head\n",
    "        while current_node != None:\n",
    "            length += 1\n",
    "            current_node = current_node.next\n",
    "        return length\n",
    "\n",
    "    def remove_duplicates(self):\n",
    "        set_values = set()\n",
    "        index = 0\n",
    "        current_node = self.head\n",
    "        while current_node != None:\n",
    "            if current_node.data not in set_values:\n",
    "                set_values.add(current_node.data)\n",
    "                index += 1\n",
    "            else:\n",
    "                self.delete_node_at_given_index(index)\n",
    "            current_node = current_node.next\n",
    "        print(\"Deleted duplicated data from linked list\")\n",
    "\n",
    "    def reverse_linkedlist(self):\n",
    "        if self.head == None:\n",
    "            return\n",
    "        prev_node = None\n",
    "        current_node = self.head\n",
    "        while current_node != None:\n",
    "            next_node = current_node.next\n",
    "            current_node.next = prev_node\n",
    "            prev_node = current_node\n",
    "            current_node = next_node\n",
    "        self.head = prev_node\n",
    "\n",
    "    def get_kth_from_end(self,k):\n",
    "        if self.head == None:\n",
    "            return \"Not Found\"\n",
    "        i = 0\n",
    "        kth_node = self.head\n",
    "        last_node = self.head\n",
    "        while current_node != None:\n",
    "            last_node = current_node.next\n",
    "            i += 1\n",
    "            if i > k-1:\n",
    "                kth_node = current_node\n",
    "        return Kth_node.data\n",
    "        \n",
    "                "
   ]
  },
  {
   "cell_type": "code",
   "execution_count": 26,
   "id": "84b6a48f-a92b-4479-91a8-45ef7598d3da",
   "metadata": {},
   "outputs": [
    {
     "name": "stdout",
     "output_type": "stream",
     "text": [
      "Node Data\n",
      "c\n",
      "a\n",
      "g\n",
      "b\n",
      "d\n",
      "e\n",
      "\n",
      "Remove First Node\n",
      "Remove Last Node\n",
      "Remove Node at Index 1\n",
      "Remove Node with given data\n",
      "\n",
      "Linked list after removing a node:\n",
      "a\n",
      "b\n",
      "\n",
      "Update node Value\n",
      "z\n",
      "b\n",
      "\n",
      "Find index of this value :\n",
      "1\n",
      "\n",
      "Size of linked list : 2\n"
     ]
    }
   ],
   "source": [
    "# create a new linked list\n",
    "llist = LinkedList()\n",
    "\n",
    "# add nodes to the linked list\n",
    "llist.insert_at_end('a')\n",
    "llist.insert_at_end('b')\n",
    "llist.insert_at_beginning('c')\n",
    "llist.insert_at_end('d')\n",
    "llist.insert_at_specific_position('g', 2)\n",
    "llist.insert_at_end('e')\n",
    "\n",
    "# print the linked list\n",
    "print(\"Node Data\")\n",
    "llist.traverse_linked_list()\n",
    "\n",
    "# # remove a nodes from the linked list\n",
    "print(\"\\nRemove First Node\")\n",
    "llist.delete_first_node()\n",
    "print(\"Remove Last Node\")\n",
    "llist.delete_last_node()\n",
    "print(\"Remove Node at Index 1\")\n",
    "llist.delete_node_at_given_index(1)\n",
    "print(\"Remove Node with given data\")\n",
    "llist.delete_node_with_a_given_data('d')\n",
    "\n",
    "# print the linked list again\n",
    "print(\"\\nLinked list after removing a node:\")\n",
    "llist.traverse_linked_list()\n",
    "\n",
    "print(\"\\nUpdate node Value\")\n",
    "llist.update_node('z', 0)\n",
    "llist.traverse_linked_list()\n",
    "\n",
    "print(\"\\nFind index of this value :\")\n",
    "llist.find_index('b')\n",
    "\n",
    "print(\"\\nSize of linked list :\", end=\" \")\n",
    "print(llist.get_length_of_linked_list())"
   ]
  },
  {
   "cell_type": "code",
   "execution_count": 2,
   "id": "48d6ffd4-25d0-4dcd-9e10-35bbe4ad4f21",
   "metadata": {},
   "outputs": [
    {
     "name": "stdout",
     "output_type": "stream",
     "text": [
      "3\n",
      "5\n",
      "7\n",
      "7\n",
      "3\n",
      "6\n",
      "4\n",
      "7\n"
     ]
    }
   ],
   "source": [
    "# create a new linked list\n",
    "llist2 = LinkedList()\n",
    "\n",
    "# add nodes to the linked list\n",
    "llist2.insert_at_end(3)\n",
    "llist2.insert_at_end(5)\n",
    "llist2.insert_at_end(7)\n",
    "llist2.insert_at_end(7)\n",
    "llist2.insert_at_end(3)\n",
    "llist2.insert_at_end(6)\n",
    "llist2.insert_at_end(4)\n",
    "llist2.insert_at_end(7)\n",
    "\n",
    "llist2.traverse_linked_list()"
   ]
  },
  {
   "cell_type": "code",
   "execution_count": 3,
   "id": "16f3de3b-7706-4625-be95-e4f1e81aa22f",
   "metadata": {},
   "outputs": [
    {
     "name": "stdout",
     "output_type": "stream",
     "text": [
      "Deleted duplicated data from linked list\n",
      "3\n",
      "5\n",
      "7\n",
      "6\n",
      "4\n"
     ]
    }
   ],
   "source": [
    "llist2.remove_duplicates()\n",
    "llist2.traverse_linked_list()"
   ]
  },
  {
   "cell_type": "markdown",
   "id": "2a0163a7-2400-4621-af12-7ba356e16f86",
   "metadata": {},
   "source": [
    "# Difference btw List and Linkedlist\n",
    "Based on Space\n",
    "- static arrays have a fixed size\n",
    "- Dynamic lists grow by 50 - 100 %\n",
    "- Linked lists don't waste memory\n",
    "- Use arrays if you know the number of items to store"
   ]
  },
  {
   "cell_type": "markdown",
   "id": "3f58a415-409a-4e5e-9ed4-e7e185929e88",
   "metadata": {},
   "source": [
    "# Run time complexity\n",
    "\n",
    "time complexity -array - Linkedlist\n",
    "- lookup\n",
    "  - By index - O(1) - O(n)\n",
    "  - By value - O(n) - O(n)\n",
    "- Insert\n",
    "  - Beginning/End - O(n) - O(1) ( if array size is 1 million its going to a issue)\n",
    "  - Middle - O(n) - O(n) ( looking for index is traverse takes O(n))\n",
    "- Delete\n",
    "  - Beginning - O(n) - (1)\n",
    "  - Middle - O(n) - O(n)\n",
    "  - End - O(n) - O(n)"
   ]
  },
  {
   "cell_type": "markdown",
   "id": "54063841-c71f-432a-a8e7-3570ec7cf817",
   "metadata": {},
   "source": [
    "# Different types of linked list \n",
    "singly and doubly\n",
    "delete from the end(time complexity) :-\n",
    "singly - O(n)\n",
    "doubly - O(1), since it can go from tail to head there is a reverse reference also, Doubly linked list takes more space but this can negligible when compare with performance we get from it.\n",
    "\n",
    "circular linkedlist :-\n",
    "last node has a reference to the first node. ( example music player players in a loop after completing all the musics in a playlist)"
   ]
  },
  {
   "cell_type": "raw",
   "id": "94c7918f-ce46-437a-bb09-4d6e42a5b607",
   "metadata": {},
   "source": [
    "# reverse a linked list \n",
    "# create a new linked list\n",
    "llist3 = LinkedList()\n",
    "\n",
    "# add nodes to the linked list\n",
    "llist3.insert_at_end(1)\n",
    "llist3.insert_at_end(2)\n",
    "llist3.insert_at_end(3)\n",
    "llist3.insert_at_end(4)\n",
    "llist3.insert_at_end(5)\n",
    "llist3.insert_at_end(6)\n",
    "llist3.insert_at_end(7)\n",
    "llist3.insert_at_end(8)\n",
    "\n",
    "llist3.traverse_linked_list()"
   ]
  },
  {
   "cell_type": "code",
   "execution_count": 48,
   "id": "7b81c1d3-570d-4b6f-b688-a7fc67b11130",
   "metadata": {},
   "outputs": [],
   "source": [
    "llist3.reverse_linkedlist()"
   ]
  },
  {
   "cell_type": "code",
   "execution_count": 49,
   "id": "a51b8e4c-debe-4430-8166-3824b06602f0",
   "metadata": {},
   "outputs": [
    {
     "name": "stdout",
     "output_type": "stream",
     "text": [
      "8\n",
      "7\n",
      "6\n",
      "5\n",
      "4\n",
      "3\n",
      "2\n",
      "1\n"
     ]
    }
   ],
   "source": [
    "llist3.traverse_linked_list()"
   ]
  },
  {
   "cell_type": "code",
   "execution_count": 50,
   "id": "8baf40ee-fdf9-45df-b786-4b4bd6104e29",
   "metadata": {},
   "outputs": [],
   "source": [
    "# find k th position value from last position in a single run, clue use 2 pointers\n",
    "# if k is 3 the distance btw two points is k -1 that is 2"
   ]
  },
  {
   "cell_type": "code",
   "execution_count": 51,
   "id": "44240f89-cc4d-4b60-a04b-11171055f09c",
   "metadata": {},
   "outputs": [
    {
     "ename": "AttributeError",
     "evalue": "'LinkedList' object has no attribute 'get_kth_from_end'",
     "output_type": "error",
     "traceback": [
      "\u001b[0;31m---------------------------------------------------------------------------\u001b[0m",
      "\u001b[0;31mAttributeError\u001b[0m                            Traceback (most recent call last)",
      "Cell \u001b[0;32mIn[51], line 1\u001b[0m\n\u001b[0;32m----> 1\u001b[0m \u001b[38;5;28mprint\u001b[39m(\u001b[43mllist3\u001b[49m\u001b[38;5;241;43m.\u001b[39;49m\u001b[43mget_kth_from_end\u001b[49m(\u001b[38;5;241m3\u001b[39m))\n",
      "\u001b[0;31mAttributeError\u001b[0m: 'LinkedList' object has no attribute 'get_kth_from_end'"
     ]
    }
   ],
   "source": [
    "print(llist3.get_kth_from_end(3))"
   ]
  },
  {
   "cell_type": "code",
   "execution_count": null,
   "id": "a13ce9f2-cc24-4fbe-9271-cfb8b70ce019",
   "metadata": {},
   "outputs": [],
   "source": []
  }
 ],
 "metadata": {
  "kernelspec": {
   "display_name": "Python 3 (ipykernel)",
   "language": "python",
   "name": "python3"
  },
  "language_info": {
   "codemirror_mode": {
    "name": "ipython",
    "version": 3
   },
   "file_extension": ".py",
   "mimetype": "text/x-python",
   "name": "python",
   "nbconvert_exporter": "python",
   "pygments_lexer": "ipython3",
   "version": "3.10.12"
  }
 },
 "nbformat": 4,
 "nbformat_minor": 5
}
