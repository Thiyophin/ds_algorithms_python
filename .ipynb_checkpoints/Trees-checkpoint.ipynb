{
 "cells": [
  {
   "cell_type": "markdown",
   "id": "7ded47f6",
   "metadata": {},
   "source": [
    "# Applications of trees\n",
    "- Represent hierarchical data\n",
    "- Databases\n",
    "- Autocompletion\n",
    "- Compilers\n",
    "- Compression (JPEG, MP3)"
   ]
  },
  {
   "cell_type": "markdown",
   "id": "c9fca079",
   "metadata": {},
   "source": [
    "Binary search tree, left < node < right\n",
    "- lookup in binary search tree - O(log n)\n",
    "- insert - O(log n)\n",
    "- delete - O(log n)"
   ]
  },
  {
   "cell_type": "markdown",
   "id": "14996f84",
   "metadata": {},
   "source": [
    "# creating a Binary search tree in python"
   ]
  },
  {
   "cell_type": "code",
   "execution_count": 16,
   "id": "f376c6e5",
   "metadata": {},
   "outputs": [],
   "source": [
    "# create node class\n",
    "class Node:\n",
    "    def __init__(self, value):\n",
    "        self.value = value\n",
    "        self.leftChild = None\n",
    "        self.rightChild = None\n",
    "\n",
    "class Tree:\n",
    "    def __init__(self):\n",
    "        self.root = None\n",
    "      \n",
    "    def insert(self, value):\n",
    "        node = Node(value)\n",
    "        print(node)\n",
    "        if self.root == None:\n",
    "            self.root = node\n",
    "            return\n",
    "        current_node = self.root\n",
    "        while current_node != None:\n",
    "            if value < current_node.value:\n",
    "                if current_node.leftChild == None:\n",
    "                    current_node.leftChild = node\n",
    "                    return\n",
    "                current_node = current_node.leftChild\n",
    "            else:\n",
    "                if current_node.rightChild == None:\n",
    "                    current_node.rightChild = node\n",
    "                    return\n",
    "                current_node = current_node.rightChild\n",
    "\n",
    "\n",
    "    def is_present(self, value):\n",
    "        if self.root == None:\n",
    "            return False\n",
    "        current_node = self.root\n",
    "        while current_node != None:\n",
    "            if current_node.value == value:\n",
    "                return True\n",
    "            if value < current_node.value:\n",
    "                current_node = current_node.leftChild\n",
    "            else:\n",
    "                current_node = current_node.rightChild\n",
    "        return False\n",
    "     "
   ]
  },
  {
   "cell_type": "code",
   "execution_count": 17,
   "id": "92aa7e86",
   "metadata": {},
   "outputs": [
    {
     "name": "stdout",
     "output_type": "stream",
     "text": [
      "<__main__.Node object at 0x7934f8473f40>\n",
      "<__main__.Node object at 0x7934e39e77f0>\n",
      "<__main__.Node object at 0x7934e39f53a0>\n",
      "<__main__.Node object at 0x7934e39f50a0>\n",
      "<__main__.Node object at 0x7934e39e4160>\n",
      "<__main__.Node object at 0x7934f8a82df0>\n",
      "<__main__.Node object at 0x7934e3d89640>\n",
      "<__main__.Node object at 0x7934e3d89760>\n",
      "<__main__.Node object at 0x7934e3d89700>\n"
     ]
    }
   ],
   "source": [
    "binary_search_tree = Tree()\n",
    "binary_search_tree.insert(10)\n",
    "binary_search_tree.insert(5)\n",
    "binary_search_tree.insert(15)\n",
    "binary_search_tree.insert(6)\n",
    "binary_search_tree.insert(1)\n",
    "binary_search_tree.insert(8)\n",
    "binary_search_tree.insert(12)\n",
    "binary_search_tree.insert(18)\n",
    "binary_search_tree.insert(17)"
   ]
  },
  {
   "cell_type": "code",
   "execution_count": 18,
   "id": "2e9753e9",
   "metadata": {},
   "outputs": [
    {
     "data": {
      "text/plain": [
       "True"
      ]
     },
     "execution_count": 18,
     "metadata": {},
     "output_type": "execute_result"
    }
   ],
   "source": [
    "binary_search_tree.is_present(6)"
   ]
  },
  {
   "cell_type": "code",
   "execution_count": 19,
   "id": "ad524d8c",
   "metadata": {},
   "outputs": [
    {
     "data": {
      "text/plain": [
       "True"
      ]
     },
     "execution_count": 19,
     "metadata": {},
     "output_type": "execute_result"
    }
   ],
   "source": [
    "binary_search_tree.is_present(10)"
   ]
  },
  {
   "cell_type": "code",
   "execution_count": 20,
   "id": "80a26d8d",
   "metadata": {},
   "outputs": [
    {
     "data": {
      "text/plain": [
       "True"
      ]
     },
     "execution_count": 20,
     "metadata": {},
     "output_type": "execute_result"
    }
   ],
   "source": [
    "binary_search_tree.is_present(17)"
   ]
  },
  {
   "cell_type": "code",
   "execution_count": 21,
   "id": "a3ed1198",
   "metadata": {},
   "outputs": [
    {
     "data": {
      "text/plain": [
       "False"
      ]
     },
     "execution_count": 21,
     "metadata": {},
     "output_type": "execute_result"
    }
   ],
   "source": [
    "binary_search_tree.is_present(22)"
   ]
  },
  {
   "cell_type": "code",
   "execution_count": null,
   "id": "4eac5f23",
   "metadata": {},
   "outputs": [],
   "source": []
  }
 ],
 "metadata": {
  "kernelspec": {
   "display_name": "env",
   "language": "python",
   "name": "env"
  },
  "language_info": {
   "codemirror_mode": {
    "name": "ipython",
    "version": 3
   },
   "file_extension": ".py",
   "mimetype": "text/x-python",
   "name": "python",
   "nbconvert_exporter": "python",
   "pygments_lexer": "ipython3",
   "version": "3.8.20"
  }
 },
 "nbformat": 4,
 "nbformat_minor": 5
}
