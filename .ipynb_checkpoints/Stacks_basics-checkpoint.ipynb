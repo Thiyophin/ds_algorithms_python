{
 "cells": [
  {
   "cell_type": "raw",
   "id": "e880d4d1-c56b-43e3-92cb-7fe22f019f60",
   "metadata": {},
   "source": [
    "Use of stacks :-\n",
    "- Implement the undo feature\n",
    "- Build compilers (eg syntax checking)\n",
    "- Evaluate expressions (eg 1 + 2 * 3)\n",
    "- Build navigation (eg forward/back)"
   ]
  },
  {
   "cell_type": "raw",
   "id": "55b19c2f-eb1d-4637-9df3-390fc97dbfb2",
   "metadata": {},
   "source": [
    "LIFO (Last In First Out) or FILO (First In Last Out)"
   ]
  },
  {
   "cell_type": "raw",
   "id": "25575354-695c-4f10-a311-1cefd2b6d40a",
   "metadata": {},
   "source": [
    "Operations :-\n",
    "- push(item) - add item to stack - O(1)\n",
    "- pop() - remove item from stack - O(1)\n",
    "- peek() - returns the top item from stack without removing -  O(1)\n",
    "- is_empty() - return True if empty or return False - O(1)"
   ]
  },
  {
   "cell_type": "raw",
   "id": "492576d0-d275-4c5f-bf44-69d442cd1c3f",
   "metadata": {},
   "source": [
    "There different ways to implement stack in python \n",
    "- list\n",
    "- Collections.deque\n",
    "- queue.LifoQueue"
   ]
  },
  {
   "cell_type": "markdown",
   "id": "30a1188a-494b-421d-9323-769c7c6fc679",
   "metadata": {},
   "source": [
    "### Implementation using list"
   ]
  },
  {
   "cell_type": "code",
   "execution_count": 11,
   "id": "b612dd64-f823-4a5b-956e-54a9d22e2f03",
   "metadata": {},
   "outputs": [
    {
     "name": "stdout",
     "output_type": "stream",
     "text": [
      "3\n",
      "[1, 2, 3]\n"
     ]
    }
   ],
   "source": [
    "stack = []\n",
    "# instead of using push use append\n",
    "stack.append(1)\n",
    "stack.append(2)\n",
    "stack.append(3)\n",
    "print(stack[-1])\n",
    "print(stack)"
   ]
  },
  {
   "cell_type": "code",
   "execution_count": 12,
   "id": "554ad2fc-29d8-4d3a-b887-98b6c0cd747c",
   "metadata": {},
   "outputs": [
    {
     "name": "stdout",
     "output_type": "stream",
     "text": [
      "[1]\n"
     ]
    }
   ],
   "source": [
    "stack.pop()\n",
    "stack.pop(1) # index needs to pop, if index is not present in stack returns error.\n",
    "print(stack)"
   ]
  },
  {
   "cell_type": "markdown",
   "id": "299b3fb4-604d-4ba3-ad45-eb4e5193acf3",
   "metadata": {},
   "source": [
    "### Implementation using collections.deque"
   ]
  },
  {
   "cell_type": "raw",
   "id": "43eb0ec0-101b-4e1d-868a-97022eeeec07",
   "metadata": {},
   "source": [
    "Python stack can be implemented using the deque class from the collections module. \n",
    "Deque is preferred over the list in the cases where we need quicker append and pop operations from both the ends of the container, \n",
    "as deque provides an O(1) time complexity for append and pop operations as compared to list which provides O(n) time complexity. "
   ]
  },
  {
   "cell_type": "code",
   "execution_count": 10,
   "id": "54007fc3-ea05-4ad0-9629-a43600258ab8",
   "metadata": {},
   "outputs": [
    {
     "name": "stdout",
     "output_type": "stream",
     "text": [
      "c\n",
      "deque(['a', 'b', 'c'])\n",
      "deque([])\n"
     ]
    }
   ],
   "source": [
    "from collections import deque\n",
    "stack = deque()\n",
    "stack.append(\"a\")\n",
    "stack.append(\"b\")\n",
    "stack.append(\"c\")\n",
    "print(stack[-1])\n",
    "print(stack)\n",
    "stack.pop()\n",
    "stack.pop()\n",
    "stack.pop()\n",
    "print(stack)"
   ]
  },
  {
   "cell_type": "markdown",
   "id": "84d3ea43-68c7-4de5-b703-19ea53c9fcfb",
   "metadata": {},
   "source": [
    "### Implementation using queue module"
   ]
  },
  {
   "cell_type": "code",
   "execution_count": 13,
   "id": "5d71e664-74a0-40fb-bd32-1dd7acbec43c",
   "metadata": {},
   "outputs": [
    {
     "name": "stdout",
     "output_type": "stream",
     "text": [
      "0\n",
      "True\n",
      "3\n"
     ]
    }
   ],
   "source": [
    "from queue import LifoQueue\n",
    "\n",
    "# Initializing a stack\n",
    "stack = LifoQueue(maxsize=3)\n",
    "\n",
    "print(stack.qsize())\n",
    "\n",
    "stack.put('a')\n",
    "stack.put('b')\n",
    "stack.put('c')\n",
    "\n",
    "print(stack.full())\n",
    "print(stack.qsize())"
   ]
  },
  {
   "cell_type": "code",
   "execution_count": 14,
   "id": "4f127f06-9904-4ebf-aa23-8d601a83fd77",
   "metadata": {},
   "outputs": [
    {
     "name": "stdout",
     "output_type": "stream",
     "text": [
      "True\n"
     ]
    }
   ],
   "source": [
    "stack.get()\n",
    "stack.get()\n",
    "stack.get()\n",
    "print(stack.empty())"
   ]
  },
  {
   "cell_type": "markdown",
   "id": "93982d4f-f9d3-461a-af9f-dad741b34232",
   "metadata": {},
   "source": [
    "### Reverse a string using stack"
   ]
  },
  {
   "cell_type": "code",
   "execution_count": 16,
   "id": "e2e9f4a4-0956-4d7c-aeb5-b4de59f4c0a0",
   "metadata": {},
   "outputs": [
    {
     "name": "stdout",
     "output_type": "stream",
     "text": [
      "edcba\n"
     ]
    }
   ],
   "source": [
    "string = \"abcde\"\n",
    "result = \"\"\n",
    "from collections import deque\n",
    "stack = deque(string)\n",
    "while stack:\n",
    "    result += stack.pop()\n",
    "print(result)"
   ]
  },
  {
   "cell_type": "markdown",
   "id": "636729c4-1104-49fb-9c99-6dbe8877917c",
   "metadata": {},
   "source": [
    "### find the balanced string expression"
   ]
  },
  {
   "cell_type": "code",
   "execution_count": 22,
   "id": "ab241858-b795-46f8-b2b9-fcbb23fe82fa",
   "metadata": {},
   "outputs": [],
   "source": [
    "def check_the_string(string):\n",
    "    from collections import deque\n",
    "    stack = deque()\n",
    "    for x in string:\n",
    "        if x == \"(\":\n",
    "            stack.append(\"(\")\n",
    "        elif x == \")\":\n",
    "            if len(stack) == 0:\n",
    "                print(\"string is not balanced\")\n",
    "                return\n",
    "            stack.pop()\n",
    "    if len(stack) == 0:\n",
    "        print(\"the string is a balanced expression\")\n",
    "    else:\n",
    "        print(\"string is not balanced\")"
   ]
  },
  {
   "cell_type": "code",
   "execution_count": 23,
   "id": "936f5e70-c21e-4a06-a52a-7195ed512dce",
   "metadata": {},
   "outputs": [
    {
     "name": "stdout",
     "output_type": "stream",
     "text": [
      "the string is a balanced expression\n"
     ]
    }
   ],
   "source": [
    "check_the_string(\"(a)(b)\")"
   ]
  },
  {
   "cell_type": "code",
   "execution_count": 24,
   "id": "b02281ee-8f67-4885-81e3-9625ac36d246",
   "metadata": {},
   "outputs": [
    {
     "name": "stdout",
     "output_type": "stream",
     "text": [
      "string is not balanced\n"
     ]
    }
   ],
   "source": [
    "check_the_string(\"(a))((b)\")"
   ]
  },
  {
   "cell_type": "code",
   "execution_count": null,
   "id": "c5c6c31b-cfcc-4023-a348-d73661cab0f4",
   "metadata": {},
   "outputs": [],
   "source": []
  }
 ],
 "metadata": {
  "kernelspec": {
   "display_name": "Python 3 (ipykernel)",
   "language": "python",
   "name": "python3"
  },
  "language_info": {
   "codemirror_mode": {
    "name": "ipython",
    "version": 3
   },
   "file_extension": ".py",
   "mimetype": "text/x-python",
   "name": "python",
   "nbconvert_exporter": "python",
   "pygments_lexer": "ipython3",
   "version": "3.10.12"
  }
 },
 "nbformat": 4,
 "nbformat_minor": 5
}
