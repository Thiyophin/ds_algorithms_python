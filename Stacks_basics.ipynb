{
 "cells": [
  {
   "cell_type": "raw",
   "id": "e880d4d1-c56b-43e3-92cb-7fe22f019f60",
   "metadata": {},
   "source": [
    "Use of stacks :-\n",
    "- Implement the undo feature\n",
    "- Build compilers (eg syntax checking)\n",
    "- Evaluate expressions (eg 1 + 2 * 3)\n",
    "- Build navigation (eg forward/back)"
   ]
  },
  {
   "cell_type": "raw",
   "id": "55b19c2f-eb1d-4637-9df3-390fc97dbfb2",
   "metadata": {},
   "source": [
    "LIFO ( Last In First Out)"
   ]
  },
  {
   "cell_type": "raw",
   "id": "25575354-695c-4f10-a311-1cefd2b6d40a",
   "metadata": {},
   "source": [
    "Operations :-\n",
    "- push(item) - add item to stack - O(1)\n",
    "- pop() - remove item from stack - O(1)\n",
    "- peek() - returns the top item from stack without removing -  O(1)\n",
    "- is_empty() - return True if empty or return False - O(1)"
   ]
  },
  {
   "cell_type": "code",
   "execution_count": null,
   "id": "0b6085e4-fb7c-44ee-8e5f-0153fe761cbe",
   "metadata": {},
   "outputs": [],
   "source": []
  }
 ],
 "metadata": {
  "kernelspec": {
   "display_name": "Python 3 (ipykernel)",
   "language": "python",
   "name": "python3"
  },
  "language_info": {
   "codemirror_mode": {
    "name": "ipython",
    "version": 3
   },
   "file_extension": ".py",
   "mimetype": "text/x-python",
   "name": "python",
   "nbconvert_exporter": "python",
   "pygments_lexer": "ipython3",
   "version": "3.10.12"
  }
 },
 "nbformat": 4,
 "nbformat_minor": 5
}
