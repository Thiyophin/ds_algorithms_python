{
 "cells": [
  {
   "cell_type": "markdown",
   "id": "113b5c49-3393-4f9d-85c8-09e5eea5cf1b",
   "metadata": {},
   "source": [
    "### FIFO - First In First Out"
   ]
  },
  {
   "cell_type": "markdown",
   "id": "8f4828de-9c8f-4d24-8c8b-d0486b6ddde2",
   "metadata": {},
   "source": [
    "### Real world application of Queues :-\n",
    "- Printers (Job for printing)\n",
    "- Operating systems (different process running using queue)\n",
    "- Web servers ( the request and response are done by this)\n",
    "- Live support systems"
   ]
  },
  {
   "cell_type": "markdown",
   "id": "fabcd898-e8c7-4cc5-bf0f-708cec3acbab",
   "metadata": {},
   "source": [
    "### Different operations of Queue\n",
    "- enqueue (adding item to queue)\n",
    "- dequeue (removing item from queue)\n",
    "- peek\n",
    "- isempty\n",
    "- isfull\n",
    "\n",
    "\n",
    "All the operations takes O(1) time complexity"
   ]
  },
  {
   "cell_type": "markdown",
   "id": "ebc4d8b0-bb82-4574-9ed8-ebcf734f00d0",
   "metadata": {},
   "source": [
    "### Implement a Queue in python\n",
    "\n",
    "we can implement queue in python using:-\n",
    " - list\n",
    " - collections.deque\n",
    " - queue.Queue"
   ]
  },
  {
   "cell_type": "markdown",
   "id": "202880bd-6dd3-421b-a0a4-1fac3e9acf68",
   "metadata": {},
   "source": [
    "#### Implementation of Queue using list\n",
    "\n",
    "List is a Python’s built-in data structure that can be used as a queue. Instead of enqueue() and dequeue(), append() and pop() function is used. However, lists are quite slow for this purpose because inserting or deleting an element at the beginning requires shifting all of the other elements by one, requiring O(n) time."
   ]
  },
  {
   "cell_type": "code",
   "execution_count": 1,
   "id": "2d88e6d5-e907-4bcb-9b55-30242531f447",
   "metadata": {},
   "outputs": [
    {
     "name": "stdout",
     "output_type": "stream",
     "text": [
      "Initial queue\n",
      "['a', 'b', 'c']\n",
      "Queue after removing two character : \n",
      "['c']\n"
     ]
    }
   ],
   "source": [
    "queue = []\n",
    "queue.append('a')\n",
    "queue.append('b')\n",
    "queue.append('c')\n",
    "print(\"Initial queue\")\n",
    "print(queue)\n",
    "queue.pop(0)\n",
    "queue.pop(0)\n",
    "print(\"Queue after removing two character : \")\n",
    "print(queue)"
   ]
  },
  {
   "cell_type": "markdown",
   "id": "909483f4-1355-461f-96e2-87d654f150dc",
   "metadata": {},
   "source": [
    "#### Implementation of Queue using collections.deque"
   ]
  },
  {
   "cell_type": "markdown",
   "id": "860d2b30-3879-4cd6-8138-e16eec7de600",
   "metadata": {},
   "source": [
    "Queue in Python can be implemented using deque class from the collections module. Deque is preferred over list in the cases where we need quicker append and pop operations from both the ends of container, as deque provides an O(1) time complexity for append and pop operations as compared to list which provides O(n) time complexity. Instead of enqueue and deque, append() and popleft() functions are used."
   ]
  },
  {
   "cell_type": "code",
   "execution_count": 3,
   "id": "86c61b40-d1f3-4060-bbda-53831621b20c",
   "metadata": {},
   "outputs": [
    {
     "name": "stdout",
     "output_type": "stream",
     "text": [
      "Initial queue\n",
      "deque(['a', 'b', 'c'])\n",
      "a\n",
      "b\n",
      "Queue after removing elements\n",
      "deque(['c'])\n"
     ]
    }
   ],
   "source": [
    "from collections import deque\n",
    "\n",
    "q = deque()\n",
    "q.append(\"a\")\n",
    "q.append(\"b\")\n",
    "q.append(\"c\")\n",
    "print(\"Initial queue\")\n",
    "print(q)\n",
    "print(q.popleft())\n",
    "print(q.popleft())\n",
    "print(\"Queue after removing elements\")\n",
    "print(q)"
   ]
  },
  {
   "cell_type": "markdown",
   "id": "b26b52a4-0da2-480a-960d-3e9801b0bd8c",
   "metadata": {},
   "source": [
    "#### Implementation using queue.Queue"
   ]
  },
  {
   "cell_type": "markdown",
   "id": "1fe25385-5179-4030-b93b-30207a48afc1",
   "metadata": {},
   "source": [
    "Queue is built-in module of Python which is used to implement a queue. queue.Queue(maxsize) initializes a variable to a maximum size of maxsize. A maxsize of zero ‘0’ means a infinite queue. \n",
    "There are various functions available in this module: \n",
    "\n",
    "maxsize – Number of items allowed in the queue.\n",
    "empty() – Return True if the queue is empty, False otherwise.\n",
    "full() – Return True if there are maxsize items in the queue. If the queue was initialized with maxsize=0 (the default), then full() never returns True.\n",
    "get() – Remove and return an item from the queue. If queue is empty, wait until an item is available.\n",
    "get_nowait() – Return an item if one is immediately available, else raise QueueEmpty.\n",
    "put(item) – Put an item into the queue. If the queue is full, wait until a free slot is available before adding the item.\n",
    "put_nowait(item) – Put an item into the queue without blocking. If no free slot is immediately available, raise QueueFull.\n",
    "qsize() – Return the number of items in the queue."
   ]
  },
  {
   "cell_type": "code",
   "execution_count": 7,
   "id": "a22be3d6-9324-4cc8-9a77-5674d977b30d",
   "metadata": {},
   "outputs": [
    {
     "name": "stdout",
     "output_type": "stream",
     "text": [
      "Queue after adding items\n",
      "<queue.Queue object at 0x7a6fdc371e40>\n",
      "3\n",
      "True\n",
      "a\n",
      "b\n",
      "False\n",
      "<queue.Queue object at 0x7a6fdc371e40>\n"
     ]
    }
   ],
   "source": [
    "from queue import Queue\n",
    "\n",
    "q = Queue(maxsize = 3)\n",
    "q.put(\"a\")\n",
    "q.put(\"b\")\n",
    "q.put(\"c\")\n",
    "print(\"Queue after adding items\")\n",
    "print(q)\n",
    "print(q.qsize())\n",
    "print(q.full())\n",
    "print(q.get())\n",
    "print(q.get())\n",
    "print(q.empty())\n",
    "print(q)\n",
    "q.put(\"final\")"
   ]
  },
  {
   "cell_type": "markdown",
   "id": "5075382c-70d8-470f-8a70-30b3487022df",
   "metadata": {},
   "source": [
    "### Reverse a queue"
   ]
  },
  {
   "cell_type": "code",
   "execution_count": 9,
   "id": "c4f139a8-d950-4ade-9395-96d490cf2c89",
   "metadata": {},
   "outputs": [
    {
     "name": "stdout",
     "output_type": "stream",
     "text": [
      "deque(['a', 'b', 'c'])\n"
     ]
    }
   ],
   "source": [
    "from collections import deque\n",
    "current_queue = deque()\n",
    "current_queue.append('a')\n",
    "current_queue.append('b')\n",
    "current_queue.append('c')\n",
    "print(current_queue)"
   ]
  },
  {
   "cell_type": "code",
   "execution_count": 12,
   "id": "52fc64e9-ef9d-4ff5-929d-0f3b07bcf239",
   "metadata": {},
   "outputs": [
    {
     "name": "stdout",
     "output_type": "stream",
     "text": [
      "deque(['c', 'b', 'a'])\n"
     ]
    }
   ],
   "source": [
    "reversed_queue = deque()\n",
    "while len(current_queue) != 0:\n",
    "    reversed_queue.append(current_queue.pop())\n",
    "print(reversed_queue)"
   ]
  },
  {
   "cell_type": "code",
   "execution_count": null,
   "id": "e5532698-4722-4d21-8069-8ee829e26139",
   "metadata": {},
   "outputs": [],
   "source": []
  }
 ],
 "metadata": {
  "kernelspec": {
   "display_name": "env",
   "language": "python",
   "name": "env"
  },
  "language_info": {
   "codemirror_mode": {
    "name": "ipython",
    "version": 3
   },
   "file_extension": ".py",
   "mimetype": "text/x-python",
   "name": "python",
   "nbconvert_exporter": "python",
   "pygments_lexer": "ipython3",
   "version": "3.10.12"
  }
 },
 "nbformat": 4,
 "nbformat_minor": 5
}
